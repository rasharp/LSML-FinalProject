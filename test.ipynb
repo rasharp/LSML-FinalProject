{
 "cells": [
  {
   "cell_type": "code",
   "execution_count": 1,
   "id": "e53ef193",
   "metadata": {
    "ExecuteTime": {
     "end_time": "2021-09-07T10:39:23.411540Z",
     "start_time": "2021-09-07T10:39:22.915786Z"
    }
   },
   "outputs": [],
   "source": [
    "import json, requests"
   ]
  },
  {
   "cell_type": "code",
   "execution_count": 2,
   "id": "32fbea9a",
   "metadata": {
    "ExecuteTime": {
     "end_time": "2021-09-07T10:39:38.800455Z",
     "start_time": "2021-09-07T10:39:38.770090Z"
    }
   },
   "outputs": [],
   "source": [
    "url = \"http://localhost:9001\""
   ]
  },
  {
   "cell_type": "code",
   "execution_count": 3,
   "id": "1dac6048",
   "metadata": {
    "ExecuteTime": {
     "end_time": "2021-09-07T10:39:51.495839Z",
     "start_time": "2021-09-07T10:39:51.058452Z"
    }
   },
   "outputs": [],
   "source": [
    "res = requests.get(url)"
   ]
  },
  {
   "cell_type": "code",
   "execution_count": 4,
   "id": "206dcd5e",
   "metadata": {
    "ExecuteTime": {
     "end_time": "2021-09-07T10:39:52.509224Z",
     "start_time": "2021-09-07T10:39:52.388717Z"
    }
   },
   "outputs": [
    {
     "data": {
      "text/plain": [
       "<Response [200]>"
      ]
     },
     "execution_count": 4,
     "metadata": {},
     "output_type": "execute_result"
    }
   ],
   "source": [
    "res"
   ]
  },
  {
   "cell_type": "code",
   "execution_count": 5,
   "id": "abcd0ba6",
   "metadata": {
    "ExecuteTime": {
     "end_time": "2021-09-07T10:39:56.218882Z",
     "start_time": "2021-09-07T10:39:56.201928Z"
    }
   },
   "outputs": [
    {
     "data": {
      "text/plain": [
       "'Server is up. Please, use API.'"
      ]
     },
     "execution_count": 5,
     "metadata": {},
     "output_type": "execute_result"
    }
   ],
   "source": [
    "res.text"
   ]
  },
  {
   "cell_type": "code",
   "execution_count": null,
   "id": "315141eb",
   "metadata": {},
   "outputs": [],
   "source": []
  },
  {
   "cell_type": "code",
   "execution_count": 10,
   "id": "248b2e78",
   "metadata": {
    "ExecuteTime": {
     "end_time": "2021-09-07T10:43:24.991446Z",
     "start_time": "2021-09-07T10:43:24.910651Z"
    }
   },
   "outputs": [],
   "source": [
    "url = \"http://localhost:9001/sentiment\"\n",
    "data = {'text': \"This is some financial news about excellent performance of market and oil price rising\"}"
   ]
  },
  {
   "cell_type": "code",
   "execution_count": 11,
   "id": "a0ee5aee",
   "metadata": {
    "ExecuteTime": {
     "end_time": "2021-09-07T10:43:25.658057Z",
     "start_time": "2021-09-07T10:43:25.642415Z"
    }
   },
   "outputs": [
    {
     "name": "stdout",
     "output_type": "stream",
     "text": [
      "{'text': 'This is some financial news about excellent performance of market and oil price rising'}\n"
     ]
    }
   ],
   "source": [
    "print(data)"
   ]
  },
  {
   "cell_type": "code",
   "execution_count": 12,
   "id": "73bbf5ce",
   "metadata": {
    "ExecuteTime": {
     "end_time": "2021-09-07T10:43:43.437757Z",
     "start_time": "2021-09-07T10:43:27.256373Z"
    }
   },
   "outputs": [],
   "source": [
    "res = requests.post(url, json=data)"
   ]
  },
  {
   "cell_type": "code",
   "execution_count": 13,
   "id": "0db3faf2",
   "metadata": {
    "ExecuteTime": {
     "end_time": "2021-09-07T10:43:44.420217Z",
     "start_time": "2021-09-07T10:43:44.389809Z"
    }
   },
   "outputs": [
    {
     "data": {
      "text/plain": [
       "<Response [200]>"
      ]
     },
     "execution_count": 13,
     "metadata": {},
     "output_type": "execute_result"
    }
   ],
   "source": [
    "res"
   ]
  },
  {
   "cell_type": "code",
   "execution_count": 14,
   "id": "7188a67f",
   "metadata": {
    "ExecuteTime": {
     "end_time": "2021-09-07T10:43:52.637271Z",
     "start_time": "2021-09-07T10:43:52.621626Z"
    }
   },
   "outputs": [
    {
     "data": {
      "text/plain": [
       "\"{'negative': 0.013298555, 'neutral': 0.18163833, 'positive': 0.8050631}\""
      ]
     },
     "execution_count": 14,
     "metadata": {},
     "output_type": "execute_result"
    }
   ],
   "source": [
    "res.text"
   ]
  },
  {
   "cell_type": "code",
   "execution_count": null,
   "id": "4496c75f",
   "metadata": {},
   "outputs": [],
   "source": []
  },
  {
   "cell_type": "code",
   "execution_count": 15,
   "id": "21633970",
   "metadata": {
    "ExecuteTime": {
     "end_time": "2021-09-07T10:44:19.800361Z",
     "start_time": "2021-09-07T10:44:19.741831Z"
    }
   },
   "outputs": [],
   "source": [
    "url = \"http://localhost:9001/topics\""
   ]
  },
  {
   "cell_type": "code",
   "execution_count": 16,
   "id": "72e89518",
   "metadata": {
    "ExecuteTime": {
     "end_time": "2021-09-07T10:44:46.023256Z",
     "start_time": "2021-09-07T10:44:44.886386Z"
    }
   },
   "outputs": [],
   "source": [
    "task_id = requests.post(url, json=data)"
   ]
  },
  {
   "cell_type": "code",
   "execution_count": 17,
   "id": "604cb018",
   "metadata": {
    "ExecuteTime": {
     "end_time": "2021-09-07T10:44:49.392627Z",
     "start_time": "2021-09-07T10:44:49.361361Z"
    }
   },
   "outputs": [
    {
     "data": {
      "text/plain": [
       "<Response [200]>"
      ]
     },
     "execution_count": 17,
     "metadata": {},
     "output_type": "execute_result"
    }
   ],
   "source": [
    "task_id"
   ]
  },
  {
   "cell_type": "code",
   "execution_count": 20,
   "id": "9e255a1b",
   "metadata": {
    "ExecuteTime": {
     "end_time": "2021-09-07T10:45:23.901632Z",
     "start_time": "2021-09-07T10:45:23.812757Z"
    }
   },
   "outputs": [
    {
     "data": {
      "text/plain": [
       "'c3e31c29-2075-4258-a5d2-eac2d3295f58'"
      ]
     },
     "execution_count": 20,
     "metadata": {},
     "output_type": "execute_result"
    }
   ],
   "source": [
    "tid = json.loads(task_id.text)['task_id']\n",
    "tid"
   ]
  },
  {
   "cell_type": "code",
   "execution_count": 22,
   "id": "df5ea5ae",
   "metadata": {
    "ExecuteTime": {
     "end_time": "2021-09-07T10:46:00.631653Z",
     "start_time": "2021-09-07T10:46:00.562627Z"
    }
   },
   "outputs": [
    {
     "data": {
      "text/plain": [
       "'http://localhost:9001/topics/c3e31c29-2075-4258-a5d2-eac2d3295f58'"
      ]
     },
     "execution_count": 22,
     "metadata": {},
     "output_type": "execute_result"
    }
   ],
   "source": [
    "url = \"http://localhost:9001/topics/{}\".format(tid)\n",
    "url"
   ]
  },
  {
   "cell_type": "code",
   "execution_count": 23,
   "id": "429ae50b",
   "metadata": {
    "ExecuteTime": {
     "end_time": "2021-09-07T10:46:16.114052Z",
     "start_time": "2021-09-07T10:46:15.614095Z"
    }
   },
   "outputs": [],
   "source": [
    "res = requests.get(url)"
   ]
  },
  {
   "cell_type": "code",
   "execution_count": 24,
   "id": "6cb7817a",
   "metadata": {
    "ExecuteTime": {
     "end_time": "2021-09-07T10:46:17.754113Z",
     "start_time": "2021-09-07T10:46:17.722861Z"
    }
   },
   "outputs": [
    {
     "data": {
      "text/plain": [
       "<Response [200]>"
      ]
     },
     "execution_count": 24,
     "metadata": {},
     "output_type": "execute_result"
    }
   ],
   "source": [
    "res"
   ]
  },
  {
   "cell_type": "code",
   "execution_count": 25,
   "id": "f3a15fc2",
   "metadata": {
    "ExecuteTime": {
     "end_time": "2021-09-07T10:46:20.456657Z",
     "start_time": "2021-09-07T10:46:20.425407Z"
    }
   },
   "outputs": [
    {
     "data": {
      "text/plain": [
       "'{\"status\": \"DONE\", \"result\": {\"Topic 1\": [53.52846887962952, {\"percent\": 2.900984563142113, \"year\": 2.010012766710355, \"oil\": 1.524223882960506, \"trade\": 1.2368500994760894, \"prices\": 1.195371734943541}], \"Topic 2\": [37.58063750844468, {\"company\": 2.273446030037617, \"business\": 1.6366104837763862, \"services\": 1.0954729668448837, \"financial\": 1.0203038279825385, \"new\": 0.9936756550050885}], \"Topic 3\": [1.1115690189885807, {\"company\": 1.9397733213438988, \"statements\": 1.1482897484589643, \"source\": 0.9727872182910303, \"million\": 0.944436406197058, \"looking\": 0.8755087876744339}], \"Topic 4\": [1.111536240357633, {\"million\": 8.158840161322555, \"income\": 7.619292507080186, \"quarter\": 6.191152226328492, \"cash\": 4.263559884592504, \"non\": 3.961153829578289}], \"Topic 5\": [1.1115201054399246, {\"percent\": 6.991153369062888, \"billion\": 4.473065359957169, \"year\": 2.7680789950576146, \"shares\": 2.3847689302523167, \"company\": 2.2644640138297607}]}}'"
      ]
     },
     "execution_count": 25,
     "metadata": {},
     "output_type": "execute_result"
    }
   ],
   "source": [
    "res.text"
   ]
  },
  {
   "cell_type": "code",
   "execution_count": null,
   "id": "f33a6296",
   "metadata": {},
   "outputs": [],
   "source": []
  }
 ],
 "metadata": {
  "kernelspec": {
   "display_name": "Python 3",
   "language": "python",
   "name": "python3"
  },
  "language_info": {
   "codemirror_mode": {
    "name": "ipython",
    "version": 3
   },
   "file_extension": ".py",
   "mimetype": "text/x-python",
   "name": "python",
   "nbconvert_exporter": "python",
   "pygments_lexer": "ipython3",
   "version": "3.8.5"
  },
  "toc": {
   "base_numbering": 1,
   "nav_menu": {},
   "number_sections": true,
   "sideBar": true,
   "skip_h1_title": false,
   "title_cell": "Table of Contents",
   "title_sidebar": "Contents",
   "toc_cell": false,
   "toc_position": {},
   "toc_section_display": true,
   "toc_window_display": false
  },
  "varInspector": {
   "cols": {
    "lenName": 16,
    "lenType": 16,
    "lenVar": 40
   },
   "kernels_config": {
    "python": {
     "delete_cmd_postfix": "",
     "delete_cmd_prefix": "del ",
     "library": "var_list.py",
     "varRefreshCmd": "print(var_dic_list())"
    },
    "r": {
     "delete_cmd_postfix": ") ",
     "delete_cmd_prefix": "rm(",
     "library": "var_list.r",
     "varRefreshCmd": "cat(var_dic_list()) "
    }
   },
   "types_to_exclude": [
    "module",
    "function",
    "builtin_function_or_method",
    "instance",
    "_Feature"
   ],
   "window_display": false
  }
 },
 "nbformat": 4,
 "nbformat_minor": 5
}
